{
  "nbformat": 4,
  "nbformat_minor": 0,
  "metadata": {
    "colab": {
      "provenance": [],
      "gpuType": "T4",
      "authorship_tag": "ABX9TyMtdpY357EvnsFDmexo9cya",
      "include_colab_link": true
    },
    "kernelspec": {
      "name": "python3",
      "display_name": "Python 3"
    },
    "language_info": {
      "name": "python"
    },
    "accelerator": "GPU"
  },
  "cells": [
    {
      "cell_type": "markdown",
      "metadata": {
        "id": "view-in-github",
        "colab_type": "text"
      },
      "source": [
        "<a href=\"https://colab.research.google.com/github/melketury/Melry-K-tury--Miss-o-2/blob/main/Untitled1.ipynb\" target=\"_parent\"><img src=\"https://colab.research.google.com/assets/colab-badge.svg\" alt=\"Open In Colab\"/></a>"
      ]
    },
    {
      "cell_type": "markdown",
      "source": [
        "# CUPY\n",
        "\n",
        "**INTRODUÇÃO**\n",
        "\n",
        "CuPy é uma biblioteca de Python projetada para realizar computação paralela intensiva em\n",
        "GPUs. É amplamente utilizada em tarefas que requerem alto desempenho computacional.\n",
        "O primeiro passo é abrir o terminal na área do seu projeto e instalar a biblioteca Cupy.\n"
      ],
      "metadata": {
        "id": "NQR3dckBfEzN"
      }
    },
    {
      "cell_type": "markdown",
      "source": [
        "\n",
        "* Observe a versão correta para sua GPU"
      ],
      "metadata": {
        "id": "OtPkNHdGiBAJ"
      }
    },
    {
      "cell_type": "code",
      "source": [
        "pip install cupy-cuda12x"
      ],
      "metadata": {
        "colab": {
          "base_uri": "https://localhost:8080/"
        },
        "id": "w3Vmz7qNo82g",
        "outputId": "f2824585-c007-471b-d628-b9ef61f66ee3"
      },
      "execution_count": 35,
      "outputs": [
        {
          "output_type": "stream",
          "name": "stdout",
          "text": [
            "Requirement already satisfied: cupy-cuda12x in /usr/local/lib/python3.10/dist-packages (12.2.0)\n",
            "Requirement already satisfied: numpy<1.27,>=1.20 in /usr/local/lib/python3.10/dist-packages (from cupy-cuda12x) (1.24.4)\n",
            "Requirement already satisfied: fastrlock>=0.5 in /usr/local/lib/python3.10/dist-packages (from cupy-cuda12x) (0.8.2)\n"
          ]
        }
      ]
    },
    {
      "cell_type": "markdown",
      "source": [
        "\n",
        "\n",
        "---\n",
        "\n",
        "\n",
        "* Importação da Biblioteca: Esta linha importa a biblioteca CuPy e a renomeia como cp. Isso permite que você use cp como um prefixo para acessar as funções e classes disponíveis na biblioteca CuPy.\n",
        "* Criação de um Array: Aqui, criamos um array unidimensional x usando a função cp.array(). O array contém os números de 1 a 5. Este array é alocado na memória da GPU, permitindo que as operações realizadas nele sejam executadas de forma eficiente e paralela.\n",
        "* Operação Matemática: Nesta linha, realizamos uma operação de potência no array x. O operador ** eleva cada elemento do array ao quadrado. Como resultado, y será um novo array que contém os quadrados dos elementos de x, ou seja, y conterá os valores [1, 4, 9, 16, 25].\n",
        "* Exibição do Resultado: Finalmente, esta linha imprime o conteúdo do array y. Como y é um array do CuPy, ele contém os resultados da operação de quadrado, que são os valores [1, 4, 9, 16, 25]. No entanto, como o array y está na memória da GPU, ele será automaticamente convertido para um array NumPy quando impresso."
      ],
      "metadata": {
        "id": "mRAmkZRHiubH"
      }
    },
    {
      "cell_type": "code",
      "source": [
        "\n",
        "import cupy as cp\n",
        "\n",
        "x = cp.array([1, 2, 3, 4, 5])\n",
        "y = x ** 2\n",
        "print(y)"
      ],
      "metadata": {
        "id": "aCD4OKvNoNRi"
      },
      "execution_count": null,
      "outputs": []
    },
    {
      "cell_type": "markdown",
      "source": [
        "CuPy oferece uma API semelhante ao NumPy, mas as operações são executadas na GPU,\n",
        "aproveitando a VRAM e a arquitetura paralela da GPU para acelerar cálculos. CuPy permite\n",
        "diferentes locais de armazenamento de dados e execução de operações computacionais:\n",
        "*  Device (GPU): Onde os dados são armazenados na VRAM.\n",
        "* Host (CPU): Onde os dados são transferidos para e a partir da GPU.\n",
        "\n",
        "**Vantagens do CuPy**\n",
        "\n",
        "*  Desempenho: Para problemas que podem ser paralelizados, CuPy pode alcançar\n",
        "velocidades significativamente superiores em comparação com a CPU.\n",
        "*  Integração com outras bibliotecas: Pode ser usado em conjunto com outras\n",
        "bibliotecas populares para aprendizado de máquina e computação científica.\n",
        "\n",
        "**Desvantagens do CuPy**\n",
        "\n",
        "* Dependência da API CUDA da NVIDIA: CuPy depende fortemente da arquitetura\n",
        "CUDA, limitando seu uso a GPUs NVIDIA.\n",
        "* Memória Limitada: GPUs geralmente têm menos memória disponível em\n",
        "comparação com a RAM do sistema.\n",
        "* Controle Lógico Complexo: GPUs são menos adequadas para lógica de controle\n",
        "complexa, onde um único núcleo de CPU pode ser mais eficiente."
      ],
      "metadata": {
        "id": "GwcpmgsU02Hk"
      }
    },
    {
      "cell_type": "markdown",
      "source": [
        "# CUDA\n",
        "CUDA (Compute Unified Device Architecture) é uma plataforma de computação paralela e\n",
        "uma API (Application Programming Interface) desenvolvida pela NVIDIA. Ela permite que os\n",
        "desenvolvedores usem GPUs para computação geral (não apenas para gráficos),\n",
        "aproveitando o imenso poder de processamento paralelo das GPUs.\n",
        "\n",
        "**Integração de CuPy com CUDA**\n",
        "\n",
        "CuPy utiliza CUDA para acelerar operações numéricas, proporcionando uma maneira\n",
        "simples e eficiente de realizar computação de alto desempenho em Python. Ao utilizar\n",
        "CuPy, os desenvolvedores podem escrever código que se beneficia do paralelismo de GPU\n",
        "sem precisar se aprofundar nos detalhes da programação CUDA\n",
        "\n",
        "**Características do CUDA**\n",
        "\n",
        "* Arquitetura Paralela: CUDA permite que milhares de threads sejam executados\n",
        "simultaneamente, utilizando centenas de núcleos de processamento da GPU.\n",
        "* Desempenho: CUDA é projetada para oferecer um alto desempenho em tarefas que\n",
        "podem ser paralelizadas, como processamento de imagens, aprendizado de\n",
        "máquina e simulações científicas.\n",
        "* Compatibilidade: Embora altamente eficiente, CUDA é específica para GPUs da\n",
        "NVIDIA, o que significa que programas escritos com CUDA não são compatíveis\n",
        "com GPUs de outros fabricantes, como AMD.\n",
        "\n",
        "**Vantagens do CUDA**\n",
        "\n",
        "* Eficiência Computacional: CUDA permite a execução de operações intensivas em\n",
        "paralelo, melhorando significativamente o desempenho em comparação com CPUs\n",
        "tradicionais.\n",
        "* Ferramentas de Desenvolvimento: CUDA fornece um rico conjunto de ferramentas\n",
        "e bibliotecas, facilitando o desenvolvimento e a otimização de aplicativos.\n",
        "* Comunidade e Suporte: Sendo uma tecnologia bem estabelecida, CUDA tem uma\n",
        "ampla comunidade de desenvolvedores e um bom suporte de documentação.\n",
        "\n",
        "**Desvantagens do CUDA**\n",
        "\n",
        "* Dependência de Hardware: A maior limitação do CUDA é que ele só pode ser\n",
        "executado em hardware NVIDIA, restringindo sua aplicabilidade.\n",
        "* Complexidade de Programação: Escrever código eficiente em CUDA pode ser\n",
        "mais complexo do que em linguagens de programação tradicionais, exigindo um\n",
        "bom entendimento de paralelismo e arquitetura de GPU."
      ],
      "metadata": {
        "id": "ljBr-Ixn1Wwa"
      }
    },
    {
      "cell_type": "code",
      "source": [
        "\n",
        "!pip install cupy-cuda12x\n",
        "\n",
        "import cupy as cp\n",
        "\n",
        "\n",
        "x = cp.array([1, 2, 3, 4, 5])\n",
        "\n",
        "\n",
        "y = x ** 2\n",
        "\n",
        "\n",
        "y_cpu = cp.asnumpy(y)\n",
        "\n",
        "# Exibindo o resultado\n",
        "print(\"Array original:\", cp.asnumpy(x))\n",
        "print(\"Array elevado ao quadrado:\", y_cpu)\n"
      ],
      "metadata": {
        "id": "vmSTnyZE2ZFA"
      },
      "execution_count": null,
      "outputs": []
    },
    {
      "cell_type": "markdown",
      "source": [
        "* nesse exemplo há a tranferencia de dados para a CPU, onde converte o array de volta para Numpy"
      ],
      "metadata": {
        "id": "gERB51I62ldB"
      }
    },
    {
      "cell_type": "markdown",
      "source": [
        "#Bibliotecas de Aprendizado Profundo e Aprendizado de Máquina\n",
        "\n",
        "**TensorFlow**\n",
        "\n",
        "TensorFlow é uma das bibliotecas mais populares para computação numérica e\n",
        "aprendizado de máquina. Desenvolvida pelo Google, facilita a construção e o treinamento\n",
        "de modelos de aprendizado profundo. As principais características do TensorFlow incluem:\n",
        "\n",
        "● Suporte para GPUs e TPUs: Permite a execução eficiente de operações em\n",
        "hardware acelerado.\n",
        "\n",
        "● TensorBoard: Ferramenta de visualização que ajuda no acompanhamento e\n",
        "depuração de modelos.\n",
        "\n",
        "● TensorFlow Lite: Versão otimizada para dispositivos móveis.\n",
        "\n",
        "● TensorFlow.js: Para execução em navegadores.\n",
        "\n",
        "\n",
        " * Deve-se seguir os seguintes passos:\n",
        "* Instalação: O código começa instalando\n",
        "o TensorFlow.\n",
        "* Importação: As bibliotecas necessárias são importadas.\n",
        "* Modelo Simples: Um modelo de rede neural simples é criado usando a API Keras, com uma camada de entrada, uma camada oculta e uma camada de saída.\n",
        "* Compilação do Modelo: O modelo é compilado com um otimizador e uma função de perda.\n",
        "* Geração de Dados: Dados aleatórios são gerados para simular o treinamento.\n",
        "* Treinamento: O modelo é treinado com os dados gerados.\n"
      ],
      "metadata": {
        "id": "8xgkYiu5t_pe"
      }
    },
    {
      "cell_type": "code",
      "source": [
        "\n",
        "!pip install tensorflow\n",
        "\n",
        "import tensorflow as tf\n",
        "from tensorflow import keras\n",
        "from tensorflow.keras import layers\n",
        "\n",
        "\n",
        "\n",
        "model = keras.Sequential([\n",
        "    layers.Dense(64, activation='relu', input_shape=(32,)),\n",
        "    layers.Dense(64, activation='relu'),\n",
        "    layers.Dense(10)\n",
        "])\n",
        "\n",
        "model.compile(optimizer='adam', loss='sparse_categorical_crossentropy', metrics=['accuracy'])\n",
        "\n",
        "import numpy as np\n",
        "\n",
        "x_train = np.random.rand(1000, 32)\n",
        "\n",
        "y_train = np.random.randint(10, size=(1000,))\n",
        "\n",
        "model.fit(x_train, y_train, epochs=5)\n",
        "\n",
        "loss, accuracy = model.evaluate(x_train, y_train)\n",
        "print(f\"Acurácia do modelo: {accuracy:.2f}\")\n"
      ],
      "metadata": {
        "colab": {
          "base_uri": "https://localhost:8080/"
        },
        "id": "pjDnrsGVvJ1d",
        "outputId": "bff8bad0-402f-4b38-a380-0f5a6f9e76a6"
      },
      "execution_count": 39,
      "outputs": [
        {
          "output_type": "stream",
          "name": "stdout",
          "text": [
            "Requirement already satisfied: tensorflow in /usr/local/lib/python3.10/dist-packages (2.17.0)\n",
            "Requirement already satisfied: absl-py>=1.0.0 in /usr/local/lib/python3.10/dist-packages (from tensorflow) (1.4.0)\n",
            "Requirement already satisfied: astunparse>=1.6.0 in /usr/local/lib/python3.10/dist-packages (from tensorflow) (1.6.3)\n",
            "Requirement already satisfied: flatbuffers>=24.3.25 in /usr/local/lib/python3.10/dist-packages (from tensorflow) (24.3.25)\n",
            "Requirement already satisfied: gast!=0.5.0,!=0.5.1,!=0.5.2,>=0.2.1 in /usr/local/lib/python3.10/dist-packages (from tensorflow) (0.6.0)\n",
            "Requirement already satisfied: google-pasta>=0.1.1 in /usr/local/lib/python3.10/dist-packages (from tensorflow) (0.2.0)\n",
            "Requirement already satisfied: h5py>=3.10.0 in /usr/local/lib/python3.10/dist-packages (from tensorflow) (3.11.0)\n",
            "Requirement already satisfied: libclang>=13.0.0 in /usr/local/lib/python3.10/dist-packages (from tensorflow) (18.1.1)\n",
            "Requirement already satisfied: ml-dtypes<0.5.0,>=0.3.1 in /usr/local/lib/python3.10/dist-packages (from tensorflow) (0.4.1)\n",
            "Requirement already satisfied: opt-einsum>=2.3.2 in /usr/local/lib/python3.10/dist-packages (from tensorflow) (3.4.0)\n",
            "Requirement already satisfied: packaging in /usr/local/lib/python3.10/dist-packages (from tensorflow) (24.1)\n",
            "Requirement already satisfied: protobuf!=4.21.0,!=4.21.1,!=4.21.2,!=4.21.3,!=4.21.4,!=4.21.5,<5.0.0dev,>=3.20.3 in /usr/local/lib/python3.10/dist-packages (from tensorflow) (3.20.3)\n",
            "Requirement already satisfied: requests<3,>=2.21.0 in /usr/local/lib/python3.10/dist-packages (from tensorflow) (2.32.3)\n",
            "Requirement already satisfied: setuptools in /usr/local/lib/python3.10/dist-packages (from tensorflow) (75.1.0)\n",
            "Requirement already satisfied: six>=1.12.0 in /usr/local/lib/python3.10/dist-packages (from tensorflow) (1.16.0)\n",
            "Requirement already satisfied: termcolor>=1.1.0 in /usr/local/lib/python3.10/dist-packages (from tensorflow) (2.5.0)\n",
            "Requirement already satisfied: typing-extensions>=3.6.6 in /usr/local/lib/python3.10/dist-packages (from tensorflow) (4.12.2)\n",
            "Requirement already satisfied: wrapt>=1.11.0 in /usr/local/lib/python3.10/dist-packages (from tensorflow) (1.16.0)\n",
            "Requirement already satisfied: grpcio<2.0,>=1.24.3 in /usr/local/lib/python3.10/dist-packages (from tensorflow) (1.64.1)\n",
            "Requirement already satisfied: tensorboard<2.18,>=2.17 in /usr/local/lib/python3.10/dist-packages (from tensorflow) (2.17.0)\n",
            "Requirement already satisfied: keras>=3.2.0 in /usr/local/lib/python3.10/dist-packages (from tensorflow) (3.4.1)\n",
            "Requirement already satisfied: tensorflow-io-gcs-filesystem>=0.23.1 in /usr/local/lib/python3.10/dist-packages (from tensorflow) (0.37.1)\n",
            "Requirement already satisfied: numpy<2.0.0,>=1.23.5 in /usr/local/lib/python3.10/dist-packages (from tensorflow) (1.24.4)\n",
            "Requirement already satisfied: wheel<1.0,>=0.23.0 in /usr/local/lib/python3.10/dist-packages (from astunparse>=1.6.0->tensorflow) (0.44.0)\n",
            "Requirement already satisfied: rich in /usr/local/lib/python3.10/dist-packages (from keras>=3.2.0->tensorflow) (13.9.2)\n",
            "Requirement already satisfied: namex in /usr/local/lib/python3.10/dist-packages (from keras>=3.2.0->tensorflow) (0.0.8)\n",
            "Requirement already satisfied: optree in /usr/local/lib/python3.10/dist-packages (from keras>=3.2.0->tensorflow) (0.13.0)\n",
            "Requirement already satisfied: charset-normalizer<4,>=2 in /usr/local/lib/python3.10/dist-packages (from requests<3,>=2.21.0->tensorflow) (3.4.0)\n",
            "Requirement already satisfied: idna<4,>=2.5 in /usr/local/lib/python3.10/dist-packages (from requests<3,>=2.21.0->tensorflow) (3.10)\n",
            "Requirement already satisfied: urllib3<3,>=1.21.1 in /usr/local/lib/python3.10/dist-packages (from requests<3,>=2.21.0->tensorflow) (2.2.3)\n",
            "Requirement already satisfied: certifi>=2017.4.17 in /usr/local/lib/python3.10/dist-packages (from requests<3,>=2.21.0->tensorflow) (2024.8.30)\n",
            "Requirement already satisfied: markdown>=2.6.8 in /usr/local/lib/python3.10/dist-packages (from tensorboard<2.18,>=2.17->tensorflow) (3.7)\n",
            "Requirement already satisfied: tensorboard-data-server<0.8.0,>=0.7.0 in /usr/local/lib/python3.10/dist-packages (from tensorboard<2.18,>=2.17->tensorflow) (0.7.2)\n",
            "Requirement already satisfied: werkzeug>=1.0.1 in /usr/local/lib/python3.10/dist-packages (from tensorboard<2.18,>=2.17->tensorflow) (3.0.4)\n",
            "Requirement already satisfied: MarkupSafe>=2.1.1 in /usr/local/lib/python3.10/dist-packages (from werkzeug>=1.0.1->tensorboard<2.18,>=2.17->tensorflow) (3.0.2)\n",
            "Requirement already satisfied: markdown-it-py>=2.2.0 in /usr/local/lib/python3.10/dist-packages (from rich->keras>=3.2.0->tensorflow) (3.0.0)\n",
            "Requirement already satisfied: pygments<3.0.0,>=2.13.0 in /usr/local/lib/python3.10/dist-packages (from rich->keras>=3.2.0->tensorflow) (2.18.0)\n",
            "Requirement already satisfied: mdurl~=0.1 in /usr/local/lib/python3.10/dist-packages (from markdown-it-py>=2.2.0->rich->keras>=3.2.0->tensorflow) (0.1.2)\n",
            "Epoch 1/5\n"
          ]
        },
        {
          "output_type": "stream",
          "name": "stderr",
          "text": [
            "/usr/local/lib/python3.10/dist-packages/keras/src/layers/core/dense.py:87: UserWarning: Do not pass an `input_shape`/`input_dim` argument to a layer. When using Sequential models, prefer using an `Input(shape)` object as the first layer in the model instead.\n",
            "  super().__init__(activity_regularizer=activity_regularizer, **kwargs)\n"
          ]
        },
        {
          "output_type": "stream",
          "name": "stdout",
          "text": [
            "\u001b[1m32/32\u001b[0m \u001b[32m━━━━━━━━━━━━━━━━━━━━\u001b[0m\u001b[37m\u001b[0m \u001b[1m4s\u001b[0m 30ms/step - accuracy: 0.0991 - loss: 11.2122\n",
            "Epoch 2/5\n",
            "\u001b[1m32/32\u001b[0m \u001b[32m━━━━━━━━━━━━━━━━━━━━\u001b[0m\u001b[37m\u001b[0m \u001b[1m3s\u001b[0m 2ms/step - accuracy: 0.1041 - loss: 9.6472 \n",
            "Epoch 3/5\n",
            "\u001b[1m32/32\u001b[0m \u001b[32m━━━━━━━━━━━━━━━━━━━━\u001b[0m\u001b[37m\u001b[0m \u001b[1m0s\u001b[0m 2ms/step - accuracy: 0.1176 - loss: 3.2062\n",
            "Epoch 4/5\n",
            "\u001b[1m32/32\u001b[0m \u001b[32m━━━━━━━━━━━━━━━━━━━━\u001b[0m\u001b[37m\u001b[0m \u001b[1m0s\u001b[0m 2ms/step - accuracy: 0.0810 - loss: 2.3026     \n",
            "Epoch 5/5\n",
            "\u001b[1m32/32\u001b[0m \u001b[32m━━━━━━━━━━━━━━━━━━━━\u001b[0m\u001b[37m\u001b[0m \u001b[1m0s\u001b[0m 2ms/step - accuracy: 0.0657 - loss: 2.3026\n",
            "\u001b[1m32/32\u001b[0m \u001b[32m━━━━━━━━━━━━━━━━━━━━\u001b[0m\u001b[37m\u001b[0m \u001b[1m2s\u001b[0m 26ms/step - accuracy: 0.0889 - loss: 2.3026\n",
            "Acurácia do modelo: 0.09\n"
          ]
        }
      ]
    },
    {
      "cell_type": "markdown",
      "source": [
        "**PyTorch**\n",
        "\n",
        "PyTorch é conhecida por sua facilidade de uso e flexibilidade, sendo altamente popular na\n",
        "comunidade de pesquisa. Suas operações são executadas imediatamente (modo eager\n",
        "execution), semelhante ao comportamento tradicional do Python, o que facilita a depuração\n",
        "e a construção dinâmica de redes neurais.\n",
        "\n",
        "* Deve-se seguir os seguintes passos:\n",
        "   * Instalação: O código começa instalando o PyTorch e a biblioteca torchvision.\n",
        "   * Importação: As bibliotecas necessárias são importadas.\n",
        "   *  Transformação de Dados: Uma transformação é definida para normalizar as imagens.\n",
        "   * Carregamento de Dados: O conjunto de dados MNIST é carregado usando torchvision.\n",
        "   * Definição do Modelo: Uma classe SimpleNN é definida para criar uma rede neural com uma camada de entrada, uma oculta e uma de saída.\n",
        "   * Compilação do Modelo: A função de perda (cross-entropy) e o otimizador (Adam) são definidos.  \n",
        "   * Treinamento do Modelo: O modelo é treinado por 5 épocas, e a perda é impressa a cada época."
      ],
      "metadata": {
        "id": "O9uJ4CEcvm0L"
      }
    },
    {
      "cell_type": "code",
      "source": [
        "\n",
        "!pip install torch torchvision\n",
        "\n",
        "import torch\n",
        "import torch.nn as nn\n",
        "import torch.optim as optim\n",
        "import torchvision\n",
        "import torchvision.transforms as transforms\n",
        "\n",
        "transform = transforms.Compose([\n",
        "    transforms.ToTensor(),\n",
        "    transforms.Normalize((0.5,), (0.5,))\n",
        "])\n",
        "\n",
        "\n",
        "trainloader = torch.utils.data.DataLoader(\n",
        "    torchvision.datasets.MNIST(root='./data', train=True, download=True, transform=transform),\n",
        "    batch_size=64,\n",
        "    shuffle=True\n",
        ")\n",
        "\n",
        "model = nn.Sequential(\n",
        "    nn.Linear(28 * 28, 128),\n",
        "    nn.ReLU(),\n",
        "    nn.Linear(128, 64),\n",
        "    nn.ReLU(),\n",
        "    nn.Linear(64, 10)\n",
        ")\n",
        "\n",
        "criterion = nn.CrossEntropyLoss()\n",
        "optimizer = optim.Adam(model.parameters(), lr=0.001)\n",
        "\n",
        "# Treinando o modelo\n",
        "for epoch in range(5):\n",
        "    for images, labels in trainloader:\n",
        "        optimizer.zero_grad()\n",
        "        outputs = model(images.view(-1, 28 * 28))\n",
        "        loss = criterion(outputs, labels)\n",
        "        loss.backward()\n",
        "        optimizer.step()\n",
        "    print(loss.item())\n",
        "\n"
      ],
      "metadata": {
        "colab": {
          "base_uri": "https://localhost:8080/"
        },
        "id": "efSlHMxvyYQp",
        "outputId": "3474cecd-e775-4a5e-abd1-3c80c43ef42f"
      },
      "execution_count": 40,
      "outputs": [
        {
          "output_type": "stream",
          "name": "stdout",
          "text": [
            "Requirement already satisfied: torch in /usr/local/lib/python3.10/dist-packages (2.4.1+cu121)\n",
            "Requirement already satisfied: torchvision in /usr/local/lib/python3.10/dist-packages (0.19.1+cu121)\n",
            "Requirement already satisfied: filelock in /usr/local/lib/python3.10/dist-packages (from torch) (3.16.1)\n",
            "Requirement already satisfied: typing-extensions>=4.8.0 in /usr/local/lib/python3.10/dist-packages (from torch) (4.12.2)\n",
            "Requirement already satisfied: sympy in /usr/local/lib/python3.10/dist-packages (from torch) (1.13.3)\n",
            "Requirement already satisfied: networkx in /usr/local/lib/python3.10/dist-packages (from torch) (3.4.1)\n",
            "Requirement already satisfied: jinja2 in /usr/local/lib/python3.10/dist-packages (from torch) (3.1.4)\n",
            "Requirement already satisfied: fsspec in /usr/local/lib/python3.10/dist-packages (from torch) (2024.6.1)\n",
            "Requirement already satisfied: numpy in /usr/local/lib/python3.10/dist-packages (from torchvision) (1.24.4)\n",
            "Requirement already satisfied: pillow!=8.3.*,>=5.3.0 in /usr/local/lib/python3.10/dist-packages (from torchvision) (10.4.0)\n",
            "Requirement already satisfied: MarkupSafe>=2.0 in /usr/local/lib/python3.10/dist-packages (from jinja2->torch) (3.0.2)\n",
            "Requirement already satisfied: mpmath<1.4,>=1.1.0 in /usr/local/lib/python3.10/dist-packages (from sympy->torch) (1.3.0)\n",
            "Downloading http://yann.lecun.com/exdb/mnist/train-images-idx3-ubyte.gz\n",
            "Failed to download (trying next):\n",
            "<urlopen error [SSL: CERTIFICATE_VERIFY_FAILED] certificate verify failed: certificate has expired (_ssl.c:1007)>\n",
            "\n",
            "Downloading https://ossci-datasets.s3.amazonaws.com/mnist/train-images-idx3-ubyte.gz\n",
            "Downloading https://ossci-datasets.s3.amazonaws.com/mnist/train-images-idx3-ubyte.gz to ./data/MNIST/raw/train-images-idx3-ubyte.gz\n"
          ]
        },
        {
          "output_type": "stream",
          "name": "stderr",
          "text": [
            "100%|██████████| 9912422/9912422 [00:00<00:00, 12775847.18it/s]\n"
          ]
        },
        {
          "output_type": "stream",
          "name": "stdout",
          "text": [
            "Extracting ./data/MNIST/raw/train-images-idx3-ubyte.gz to ./data/MNIST/raw\n",
            "\n",
            "Downloading http://yann.lecun.com/exdb/mnist/train-labels-idx1-ubyte.gz\n",
            "Failed to download (trying next):\n",
            "<urlopen error [SSL: CERTIFICATE_VERIFY_FAILED] certificate verify failed: certificate has expired (_ssl.c:1007)>\n",
            "\n",
            "Downloading https://ossci-datasets.s3.amazonaws.com/mnist/train-labels-idx1-ubyte.gz\n",
            "Downloading https://ossci-datasets.s3.amazonaws.com/mnist/train-labels-idx1-ubyte.gz to ./data/MNIST/raw/train-labels-idx1-ubyte.gz\n"
          ]
        },
        {
          "output_type": "stream",
          "name": "stderr",
          "text": [
            "100%|██████████| 28881/28881 [00:00<00:00, 345890.50it/s]\n"
          ]
        },
        {
          "output_type": "stream",
          "name": "stdout",
          "text": [
            "Extracting ./data/MNIST/raw/train-labels-idx1-ubyte.gz to ./data/MNIST/raw\n",
            "\n",
            "Downloading http://yann.lecun.com/exdb/mnist/t10k-images-idx3-ubyte.gz\n",
            "Failed to download (trying next):\n",
            "<urlopen error [SSL: CERTIFICATE_VERIFY_FAILED] certificate verify failed: certificate has expired (_ssl.c:1007)>\n",
            "\n",
            "Downloading https://ossci-datasets.s3.amazonaws.com/mnist/t10k-images-idx3-ubyte.gz\n",
            "Downloading https://ossci-datasets.s3.amazonaws.com/mnist/t10k-images-idx3-ubyte.gz to ./data/MNIST/raw/t10k-images-idx3-ubyte.gz\n"
          ]
        },
        {
          "output_type": "stream",
          "name": "stderr",
          "text": [
            "100%|██████████| 1648877/1648877 [00:00<00:00, 3177009.13it/s]\n"
          ]
        },
        {
          "output_type": "stream",
          "name": "stdout",
          "text": [
            "Extracting ./data/MNIST/raw/t10k-images-idx3-ubyte.gz to ./data/MNIST/raw\n",
            "\n",
            "Downloading http://yann.lecun.com/exdb/mnist/t10k-labels-idx1-ubyte.gz\n",
            "Failed to download (trying next):\n",
            "<urlopen error [SSL: CERTIFICATE_VERIFY_FAILED] certificate verify failed: certificate has expired (_ssl.c:1007)>\n",
            "\n",
            "Downloading https://ossci-datasets.s3.amazonaws.com/mnist/t10k-labels-idx1-ubyte.gz\n",
            "Downloading https://ossci-datasets.s3.amazonaws.com/mnist/t10k-labels-idx1-ubyte.gz to ./data/MNIST/raw/t10k-labels-idx1-ubyte.gz\n"
          ]
        },
        {
          "output_type": "stream",
          "name": "stderr",
          "text": [
            "100%|██████████| 4542/4542 [00:00<00:00, 3863420.96it/s]\n"
          ]
        },
        {
          "output_type": "stream",
          "name": "stdout",
          "text": [
            "Extracting ./data/MNIST/raw/t10k-labels-idx1-ubyte.gz to ./data/MNIST/raw\n",
            "\n",
            "0.10998015850782394\n",
            "0.19541962444782257\n",
            "0.2979496419429779\n",
            "0.11853005737066269\n",
            "0.007818540558218956\n"
          ]
        }
      ]
    }
  ]
}