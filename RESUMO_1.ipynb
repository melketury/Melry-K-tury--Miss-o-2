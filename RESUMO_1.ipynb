{
  "nbformat": 4,
  "nbformat_minor": 0,
  "metadata": {
    "colab": {
      "provenance": [],
      "authorship_tag": "ABX9TyMqg/n7IDRUIQjzRSGnTO8R",
      "include_colab_link": true
    },
    "kernelspec": {
      "name": "python3",
      "display_name": "Python 3"
    },
    "language_info": {
      "name": "python"
    }
  },
  "cells": [
    {
      "cell_type": "markdown",
      "metadata": {
        "id": "view-in-github",
        "colab_type": "text"
      },
      "source": [
        "<a href=\"https://colab.research.google.com/github/melketury/Melry-K-tury--Miss-o-2/blob/main/RESUMO_1.ipynb\" target=\"_parent\"><img src=\"https://colab.research.google.com/assets/colab-badge.svg\" alt=\"Open In Colab\"/></a>"
      ]
    },
    {
      "cell_type": "markdown",
      "source": [
        "#Vetores de Stokes, matrizes de Jones e Mueller e Esfera de Poincaré\n",
        "\n",
        "\n",
        "**Matriz de Jones:**\n",
        "\n",
        "Ele descreve como elementos ópticos, como polarizadores, retardadores de fase e espelhos, alteram o estado de polarização da luz ao interagir com ela. Quando multiplicamos a matriz de Jones com o vetor de Jones se obtem um novo estado de polarização da luz após passar por um elemento óptico . Ela permite representar a polarização da luz com um vetor de Jones, que contém as amplitudes 𝐸𝑥 e 𝐸𝑦 das componentes do campo elétrico nas direções 𝑥 e 𝑦, além de sua relação de fase.\n",
        "\n",
        "**Matriz de Muller:**\n",
        "\n",
        "Ele descreve como um meio altera o estado de polarização da luz, sendo aplicável tanto a luz totalmente quanto parcialmente polarizada, sem depender da fase. Diferente da matriz de Jones descreve como elementos ópticos alteram o estado de polarização de luz totalmente polarizada, considerando a fase das componentes. É uma matriz 4×4 com entradas reais.\n",
        "\n",
        "\n",
        "**Vetor de Stokes:**\n",
        "\n",
        "Ele é fundamental descrever o **estado de polarização** da luz, esses estados podem ser linear, circular e eliptica.\n",
        "1. Linear\n",
        "\n",
        "o campo eletrico oscila em um unico plano, que pode ser horizontal, vertical ou em algum angulo entre eles, ela são caracterizada pelos paramentros S1 que tem a diferença entre intensidade horizontal e vertical, e S2 que a diferença entre a +45º e -45º\n",
        "2. Circular\n",
        "\n",
        "O campo eletrico forma uma espiral no tempo, girando em sentido horario e anti-horario, ele é descrito pelos paramentos de S3, que mede a diferença entre as duas formas de polarização circular.\n",
        "\n",
        "3. Eliptica\n",
        "\n",
        "Esse é o estado mais geral de polarização da luz, pois os outros estados são casos isolados da elipse.\n",
        "A linear o eixo menor da elipse é nulo,ou seja, descreve uma linha reta\n",
        "ciruclar a elipse se torna um circulo, ou seja, o eixo maior e o menor tém a mesma magnitude\n",
        "\n",
        "As classificações desses parâmetros de Stokes são usados para descrever quantitativamente o estado de polarização, incluindo a forma da polarização elíptica:\n",
        "\n",
        "1. S0: intensidade total da luz, independente do estado de polarização\n",
        "2. S1: Mede a diferença de intensidade entre as componentes linearmente polarizada, sendo horizontal(0∘) e vertical (90∘)\n",
        "3. S2: Mede a diferença de intensidade entre os componentes linearmente polarizadas a +45∘ e -45∘\n",
        "4. S3: Mede a diferença de intensidade entre as componentes de luz polarizada circularmente à direita e à esquerda\n",
        "\n",
        "A relação entre os parâmetros de Stokes e a polarização elíptica é melhor visualizada na esfera de Poincaré.\n",
        "\n"
      ],
      "metadata": {
        "id": "mI1H_336lVCt"
      }
    },
    {
      "cell_type": "markdown",
      "source": [
        "**Esfera de Poincaré**\n",
        "\n",
        "Representa os diferentes estados de polarização da luz da esfera. Cada ponto na superfície da esfera corresponde a um estado de polarização específico, que permite uma compreensão dos tipos de polarização linear, circular e elíptica.\n",
        "\n",
        "Equações juntamente com os componentes de stokes: A relação entre as coordenadas esféricas (𝜃,𝜙) e os componentes de Stokes 𝑆1,𝑆2,𝑆3 é dada pelas seguintes equações:\n",
        "\n",
        "\n",
        "Usa-se a esfera para visualizar a distribuição dos estados de polarização:\n",
        "\n",
        "* Os estados lineares estão no equador.\n",
        "* Os estados circulares estão nos polos.\n",
        "* Os estados elípticos aparecem entre o equador e os polos, com diferentes graus de elipticidade.\n",
        "\n",
        "Onde vizualizamos a matriz de Muller e a matriz de Jones na esfera:\n",
        "* Matriz de Mueller: Representa transformações que podem mover o ponto tanto dentro da superfície da esfera (mudando o grau de polarização) quanto ao longo dela, descrevendo efeitos em luz parcialmente ou totalmente polarizada.\n",
        "* Matriz de Jones: Descreve rotações precisas do ponto ao longo da superfície da esfera, aplicáveis apenas a luz totalmente polarizada, sem alterar a intensidade ou o grau de polarização.\n"
      ],
      "metadata": {
        "id": "AMlSuN-R3iu5"
      }
    },
    {
      "cell_type": "markdown",
      "source": [
        "# Dipersão do Modos de Polarização (PMD)\n",
        "\n",
        "A Dispersão por Modos de Polarização (PMD) ocorre em fibras ópticas devido à diferença na velocidade de propagação entre dois modos principais de polarização (rápido e lento). Isso resulta em um atraso de grupo diferencial (DGD), que pode causar distorções no sinal, especialmente em altas taxas de transmissão, afetando o desempenho dos sistemas de comunicação óptica.\n",
        "\n",
        "* Efeitos da PMD:\n",
        "\n",
        "  * Distorção temporal: os sinais de luz que são enviados rapidamente, com frequências muito altas, porque os dois modos de polarização chegam ao destino em momentos diferentes, causando desfoque e interferência.\n",
        "  * Limitação da largura de banda: Em fibras de longa distância, pode reduzir a capacidade de transmissão.\n",
        "  * Interações com outros fenômenos: Como a perda dependente de polarização (PDL).\n",
        "\n",
        "* Representação na Esfera de Stokes:\n",
        "\n",
        "Nela a PMD é representada por um vetor , que descreve o eixo e a magnitude do atraso. À medida que a luz se propaga, variações na birrefringência (fenômeno óptico que ocorre quando a luz atravessa um material e se divide em dois feixe) alteram a orientação de , resultando em como o estado de polarização se altera enquanto a luz se propaga do estado de polarização.\n",
        "\n",
        "\n",
        "* Estados de Polarização Principais (PSP):\n",
        "\n",
        "De acordo com a observação de Poole, há dois estados ortogonais de polarização (rápido e lento), chamados de Principal States of Polarization (PSP). O vetor de PMD é direcionado ao longo do eixo do maior atraso e tem um comprimento que representa a diferença de atraso entre esses dois PSPs.\n",
        "\n",
        "\n",
        "* Mudança do vetor de polarização:\n",
        "\n",
        "A mudança no vetor de polarização\n",
        "𝑠 em relação à frequência (𝜔) é dada por uma equação que mostra como a polarização da luz se altera devido à precessão do vetor à medida que a frequência varia. O vetor de PMD (𝑉) define essa mudança.\n",
        "\n",
        "* Precessão sobre eixos birefringentes:\n",
        "\n",
        "Precessão é o fenômeno onde o vetor de polarização 𝑠⃗ gira ao redor de um eixo birefringente 𝑟^, o que afeta o estado de polarização da luz. O produto vetorial 𝑟^×𝑠⃗ define a rotação do vetor de polarização ao longo do eixo 𝑟^.\n",
        "\n",
        "\n",
        "\n",
        "* Cascata de elementos birefringentes:\n",
        "\n",
        "No momento que a luz passa por uma sequência de elementos birefringentes, onde cada um provoca uma mudança no vetor de polarização, onde se tem a  precessão. A soma dessas mudanças ao longo do caminho resulta na PMD, com o atraso de grupo."
      ],
      "metadata": {
        "id": "ca74LbCthatL"
      }
    },
    {
      "cell_type": "code",
      "source": [],
      "metadata": {
        "id": "wkE0lwnvxG4L"
      },
      "execution_count": null,
      "outputs": []
    }
  ]
}